{
 "cells": [
  {
   "cell_type": "markdown",
   "id": "74910c27-634e-4daa-8fcd-c09ba44e63a2",
   "metadata": {
    "tags": []
   },
   "source": [
    "# DataScienceEcosystem"
   ]
  },
  {
   "cell_type": "markdown",
   "id": "2a2493e1-b9d8-48d4-bc3d-aeb2ddb9cdf9",
   "metadata": {},
   "source": [
    "In this notebook, Data Science Tools and Ecosystem are summarized.\n"
   ]
  },
  {
   "cell_type": "markdown",
   "id": "afcc3a46-d694-4eeb-84d5-8e965191542c",
   "metadata": {},
   "source": [
    "Objectives:\n",
    "* List popular languages for Data Science\n",
    "* List popular Data Science Tools\n",
    "* List Data Science libraries"
   ]
  },
  {
   "cell_type": "markdown",
   "id": "ddd19ff7-cc6c-4069-8f60-abda105af318",
   "metadata": {},
   "source": [
    "Some of the popular languages that Data Scientists use are:\n",
    " 1. Python\n",
    " 2. SPSS\n",
    " 3. R"
   ]
  },
  {
   "cell_type": "markdown",
   "id": "db569c6f-98c9-49d2-b256-64a630c75255",
   "metadata": {},
   "source": [
    "| Data Science Tools |\n",
    "|-------------------|\n",
    "| RStudio |\n",
    "| MySQL |\n",
    "| Plotly |"
   ]
  },
  {
   "cell_type": "markdown",
   "id": "9ea35481-71ff-4b1a-a6c8-58d98fc703c9",
   "metadata": {},
   "source": [
    "Some of the commonly used libraries used by Data Scientists include:\n",
    "* Pandas\n",
    "* NumPy\n",
    "* TesorFlow"
   ]
  },
  {
   "cell_type": "markdown",
   "id": "c272f1fa-2f00-42b5-91f9-f594563293fa",
   "metadata": {},
   "source": [
    "### Below are a few examples of evaluating arithmetic expressions in Python."
   ]
  },
  {
   "cell_type": "code",
   "execution_count": 2,
   "id": "07082e4e-54ae-47a4-b367-3dc3494d69f6",
   "metadata": {
    "tags": []
   },
   "outputs": [
    {
     "data": {
      "text/plain": [
       "17"
      ]
     },
     "execution_count": 2,
     "metadata": {},
     "output_type": "execute_result"
    }
   ],
   "source": [
    "# This a simple arithmetic expression to mutiply then add integers\n",
    "(3*4)+5"
   ]
  },
  {
   "cell_type": "code",
   "execution_count": 4,
   "id": "efaa1ef9-ae7a-41d8-9e86-ee24ef6e21eb",
   "metadata": {
    "tags": []
   },
   "outputs": [
    {
     "data": {
      "text/plain": [
       "3.3333333333333335"
      ]
     },
     "execution_count": 4,
     "metadata": {},
     "output_type": "execute_result"
    }
   ],
   "source": [
    "# This will convert 200 minutes to hours by diving by 60\n",
    "200 / 60"
   ]
  },
  {
   "cell_type": "markdown",
   "id": "9968c6d2-4715-4808-8d33-48ac4ec16083",
   "metadata": {},
   "source": [
    "## Author"
   ]
  },
  {
   "cell_type": "markdown",
   "id": "6decb821-099a-4ae9-955a-ee53cce55a49",
   "metadata": {
    "tags": []
   },
   "source": [
    "Winhard Schwarz"
   ]
  },
  {
   "cell_type": "code",
   "execution_count": null,
   "id": "99f1f128-7849-46e3-97d7-d6e86e05be52",
   "metadata": {},
   "outputs": [],
   "source": []
  }
 ],
 "metadata": {
  "kernelspec": {
   "display_name": "Python",
   "language": "python",
   "name": "conda-env-python-py"
  },
  "language_info": {
   "codemirror_mode": {
    "name": "ipython",
    "version": 3
   },
   "file_extension": ".py",
   "mimetype": "text/x-python",
   "name": "python",
   "nbconvert_exporter": "python",
   "pygments_lexer": "ipython3",
   "version": "3.7.12"
  }
 },
 "nbformat": 4,
 "nbformat_minor": 5
}
